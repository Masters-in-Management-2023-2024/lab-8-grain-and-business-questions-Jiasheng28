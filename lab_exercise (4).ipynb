{
  "cells": [
    {
      "cell_type": "markdown",
      "metadata": {
        "id": "Qtk-C8s_FSs4"
      },
      "source": [
        "# Diamond Company Analytics Challenge\n",
        "\n",
        "**Time:** 35 minutes\n",
        "\n",
        "**Scenario:** You are the new data analyst at a prestigious diamond company. The CEO has called an urgent meeting and needs answers to critical business questions about the inventory.\n",
        "\n",
        "**Your Mission:** Analyze the diamond inventory data and provide insights to guide strategic decisions."
      ]
    },
    {
      "cell_type": "code",
      "execution_count": null,
      "metadata": {
        "id": "JWDT8vtZFSs6"
      },
      "outputs": [],
      "source": [
        "import polars as pl\n",
        "\n",
        "# Load the diamonds dataset\n",
        "print(\"Loading diamonds dataset...\")\n",
        "df = pl.read_csv('https://raw.githubusercontent.com/pycaret/pycaret/master/datasets/diamond.csv')\n",
        "print(\"Dataset loaded successfully!\")"
      ]
    },
    {
      "cell_type": "markdown",
      "metadata": {
        "id": "IdU-E8LFFSs6"
      },
      "source": [
        "## Section 1: Initial Inventory Assessment (5 minutes)\n",
        "\n",
        "The CEO walks in: \"Before we dive into specifics, I need to understand what we're working with. Give me the basics about our inventory database.\""
      ]
    },
    {
      "cell_type": "markdown",
      "metadata": {
        "id": "Dfbgh1bJFSs6"
      },
      "source": [
        "### Question 1: \"How extensive is our inventory database?\"\n",
        "\n",
        "The CEO needs to know the scale of data you're analyzing."
      ]
    },
    {
      "cell_type": "code",
      "execution_count": 6,
      "metadata": {
        "colab": {
          "base_uri": "https://localhost:8080/",
          "height": 0
        },
        "id": "IJxXS6AHFSs6",
        "outputId": "aa895f53-646c-4828-9ec1-9421a059a68f"
      },
      "outputs": [
        {
          "output_type": "stream",
          "name": "stdout",
          "text": [
            "Loading diamonds dataset...\n",
            "Dataset loaded successfully!\n",
            "Our inventory database contains 6000 rows and 8 columns.\n"
          ]
        }
      ],
      "source": [
        "# Your code here:\n",
        "\n",
        "\n",
        "import polars as pl\n",
        "\n",
        "print(\"Loading diamonds dataset...\")\n",
        "df = pl.read_csv('https://raw.githubusercontent.com/pycaret/pycaret/master/datasets/diamond.csv')\n",
        "print(\"Dataset loaded successfully!\")\n",
        "\n",
        "\n",
        "num_rows = len(df)\n",
        "num_columns = len(df.columns)\n",
        "print(f\"Our inventory database contains {num_rows} rows and {num_columns} columns.\")\n",
        "\n",
        "\n",
        "\n",
        "\n"
      ]
    },
    {
      "cell_type": "markdown",
      "metadata": {
        "id": "lZP1oVTsFSs6"
      },
      "source": [
        "### Question 2: \"What information do we track about each diamond?\"\n",
        "\n",
        "List all the characteristics we record."
      ]
    },
    {
      "cell_type": "code",
      "execution_count": 8,
      "metadata": {
        "colab": {
          "base_uri": "https://localhost:8080/",
          "height": 0
        },
        "id": "aAByrQvFFSs6",
        "outputId": "d9b1810e-d71b-49bd-db48-5788108c2ae6"
      },
      "outputs": [
        {
          "output_type": "stream",
          "name": "stdout",
          "text": [
            "We track the following attributes for each diamond:\n",
            "- Carat Weight\n",
            "- Cut\n",
            "- Color\n",
            "- Clarity\n",
            "- Polish\n",
            "- Symmetry\n",
            "- Report\n",
            "- Price\n"
          ]
        }
      ],
      "source": [
        "# Your code here:\n",
        "\n",
        "\n",
        "# Question 2: What information do we track about each diamond?\n",
        "\n",
        "print(\"We track the following attributes for each diamond:\")\n",
        "for col in df.columns:\n",
        "    print(f\"- {col}\")\n",
        "\n"
      ]
    },
    {
      "cell_type": "markdown",
      "metadata": {
        "id": "rSf0tEcRFSs7"
      },
      "source": [
        "### Question 3: \"When I look at one line in this database, what am I looking at?\"\n",
        "\n",
        "Explain in business terms:"
      ]
    },
    {
      "cell_type": "code",
      "source": [
        "# Question 3: Grain of the dataset\n",
        "\n",
        "print(\"Grain: One row represents one unique diamond in the company's inventory, including all recorded attributes.\")\n",
        "\n",
        "\n",
        "df.head(5)\n",
        "\n",
        "\n",
        "\n",
        "\n",
        "\n",
        "\n",
        "\n",
        "\n"
      ],
      "metadata": {
        "colab": {
          "base_uri": "https://localhost:8080/",
          "height": 272
        },
        "id": "Qa-SDyqPGLKi",
        "outputId": "cdff0a90-439e-4c1e-a4b6-cae4c563092b"
      },
      "execution_count": 9,
      "outputs": [
        {
          "output_type": "stream",
          "name": "stdout",
          "text": [
            "Grain: One row represents one unique diamond in the company's inventory, including all recorded attributes.\n"
          ]
        },
        {
          "output_type": "execute_result",
          "data": {
            "text/plain": [
              "shape: (5, 8)\n",
              "┌──────────────┬───────┬───────┬─────────┬────────┬──────────┬────────┬───────┐\n",
              "│ Carat Weight ┆ Cut   ┆ Color ┆ Clarity ┆ Polish ┆ Symmetry ┆ Report ┆ Price │\n",
              "│ ---          ┆ ---   ┆ ---   ┆ ---     ┆ ---    ┆ ---      ┆ ---    ┆ ---   │\n",
              "│ f64          ┆ str   ┆ str   ┆ str     ┆ str    ┆ str      ┆ str    ┆ i64   │\n",
              "╞══════════════╪═══════╪═══════╪═════════╪════════╪══════════╪════════╪═══════╡\n",
              "│ 1.1          ┆ Ideal ┆ H     ┆ SI1     ┆ VG     ┆ EX       ┆ GIA    ┆ 5169  │\n",
              "│ 0.83         ┆ Ideal ┆ H     ┆ VS1     ┆ ID     ┆ ID       ┆ AGSL   ┆ 3470  │\n",
              "│ 0.85         ┆ Ideal ┆ H     ┆ SI1     ┆ EX     ┆ EX       ┆ GIA    ┆ 3183  │\n",
              "│ 0.91         ┆ Ideal ┆ E     ┆ SI1     ┆ VG     ┆ VG       ┆ GIA    ┆ 4370  │\n",
              "│ 0.83         ┆ Ideal ┆ G     ┆ SI1     ┆ EX     ┆ EX       ┆ GIA    ┆ 3171  │\n",
              "└──────────────┴───────┴───────┴─────────┴────────┴──────────┴────────┴───────┘"
            ],
            "text/html": [
              "<div><style>\n",
              ".dataframe > thead > tr,\n",
              ".dataframe > tbody > tr {\n",
              "  text-align: right;\n",
              "  white-space: pre-wrap;\n",
              "}\n",
              "</style>\n",
              "<small>shape: (5, 8)</small><table border=\"1\" class=\"dataframe\"><thead><tr><th>Carat Weight</th><th>Cut</th><th>Color</th><th>Clarity</th><th>Polish</th><th>Symmetry</th><th>Report</th><th>Price</th></tr><tr><td>f64</td><td>str</td><td>str</td><td>str</td><td>str</td><td>str</td><td>str</td><td>i64</td></tr></thead><tbody><tr><td>1.1</td><td>&quot;Ideal&quot;</td><td>&quot;H&quot;</td><td>&quot;SI1&quot;</td><td>&quot;VG&quot;</td><td>&quot;EX&quot;</td><td>&quot;GIA&quot;</td><td>5169</td></tr><tr><td>0.83</td><td>&quot;Ideal&quot;</td><td>&quot;H&quot;</td><td>&quot;VS1&quot;</td><td>&quot;ID&quot;</td><td>&quot;ID&quot;</td><td>&quot;AGSL&quot;</td><td>3470</td></tr><tr><td>0.85</td><td>&quot;Ideal&quot;</td><td>&quot;H&quot;</td><td>&quot;SI1&quot;</td><td>&quot;EX&quot;</td><td>&quot;EX&quot;</td><td>&quot;GIA&quot;</td><td>3183</td></tr><tr><td>0.91</td><td>&quot;Ideal&quot;</td><td>&quot;E&quot;</td><td>&quot;SI1&quot;</td><td>&quot;VG&quot;</td><td>&quot;VG&quot;</td><td>&quot;GIA&quot;</td><td>4370</td></tr><tr><td>0.83</td><td>&quot;Ideal&quot;</td><td>&quot;G&quot;</td><td>&quot;SI1&quot;</td><td>&quot;EX&quot;</td><td>&quot;EX&quot;</td><td>&quot;GIA&quot;</td><td>3171</td></tr></tbody></table></div>"
            ]
          },
          "metadata": {},
          "execution_count": 9
        }
      ]
    },
    {
      "cell_type": "markdown",
      "metadata": {
        "id": "8xsXBLhWFSs7"
      },
      "source": [
        "## Section 2: Strategic Business Questions (20 minutes)\n",
        "\n",
        "The CEO continues: \"Now let's get to the important questions. Our board meeting is tomorrow and I need concrete numbers.\""
      ]
    },
    {
      "cell_type": "markdown",
      "metadata": {
        "id": "BjQum4oXFSs7"
      },
      "source": [
        "### Question 4: \"We're considering expanding our storage facilities. How many total carats do we have in inventory? I need to know if our vaults can handle the weight.\"\n",
        "\n",
        "Think about what measurement would help answer this."
      ]
    },
    {
      "cell_type": "code",
      "execution_count": 12,
      "metadata": {
        "colab": {
          "base_uri": "https://localhost:8080/",
          "height": 0
        },
        "id": "vvnEUS3cFSs7",
        "outputId": "e2906894-eb9b-4741-c878-efffeb20c4b4"
      },
      "outputs": [
        {
          "output_type": "stream",
          "name": "stdout",
          "text": [
            "Total number of diamonds: 6000\n",
            "Average carat weight: 1.3345200000000002\n",
            "Total weight of diamonds (in carats): 8007.120000000001\n"
          ]
        }
      ],
      "source": [
        "# Your code here:\n",
        "\n",
        "# Question 4\n",
        "\n",
        "\n",
        "count = len(df)\n",
        "print(f\"Total number of diamonds: {count}\")\n",
        "\n",
        "avg_carat = df[\"Carat Weight\"].mean()\n",
        "print(f\"Average carat weight: {avg_carat}\")\n",
        "\n",
        "print(f\"Total weight of diamonds (in carats): {count * avg_carat}\")\n",
        "\n",
        "\n",
        "\n",
        "\n",
        "\n",
        "\n",
        "\n",
        "\n"
      ]
    },
    {
      "cell_type": "markdown",
      "metadata": {
        "id": "I9qx5U9aFSs7"
      },
      "source": [
        "### Question 5: \"Our new marketing campaign claims we have 'the widest variety of cuts in the industry.' Can you verify this?\"\n",
        "\n",
        "The CEO wants to know about variety, not quantity."
      ]
    },
    {
      "cell_type": "code",
      "execution_count": 16,
      "metadata": {
        "colab": {
          "base_uri": "https://localhost:8080/",
          "height": 0
        },
        "id": "KXgv0oaXFSs7",
        "outputId": "cfce627f-9c62-46d7-adc5-c48850c64a8c"
      },
      "outputs": [
        {
          "output_type": "stream",
          "name": "stdout",
          "text": [
            "We have 5 unique cut types:\n",
            " Fair\n",
            " Very Good\n",
            " Good\n",
            " Ideal\n",
            " Signature-Ideal\n"
          ]
        }
      ],
      "source": [
        "# Your code here:\n",
        "\n",
        "# Questionn 5\n",
        "\n",
        "\n",
        "unique_cuts = df[\"Cut\"].unique()\n",
        "num_unique_cuts = len(unique_cuts)\n",
        "\n",
        "print(f\"We have {num_unique_cuts} unique cut types:\")\n",
        "for cut in unique_cuts:\n",
        "    print(f\" {cut}\")\n",
        "\n",
        "\n",
        "\n",
        "\n",
        "\n",
        "\n",
        "\n",
        "\n",
        "\n",
        "\n",
        "\n"
      ]
    },
    {
      "cell_type": "markdown",
      "metadata": {
        "id": "U2N1DAuKFSs7"
      },
      "source": [
        "### Question 6: \"I'm meeting with our insurance company. They need to know our price exposure - what's our most and least valuable diamond?\""
      ]
    },
    {
      "cell_type": "code",
      "execution_count": 17,
      "metadata": {
        "colab": {
          "base_uri": "https://localhost:8080/",
          "height": 0
        },
        "id": "RjkZxNfZFSs7",
        "outputId": "b1eb9b99-ede1-4f51-a24c-a15c3100308b"
      },
      "outputs": [
        {
          "output_type": "stream",
          "name": "stdout",
          "text": [
            "Most valuable diamond price: $101,561.00\n",
            "Least valuable diamond price: $2,184.00\n"
          ]
        }
      ],
      "source": [
        "# Your code here:\n",
        "\n",
        "# Question 6\n",
        "\n",
        "\n",
        "max_price = df[\"Price\"].max()\n",
        "min_price = df[\"Price\"].min()\n",
        "\n",
        "print(f\"Most valuable diamond price: ${max_price:,.2f}\")\n",
        "print(f\"Least valuable diamond price: ${min_price:,.2f}\")\n",
        "\n",
        "\n",
        "\n",
        "\n",
        "\n",
        "\n",
        "\n",
        "\n",
        "\n",
        "\n"
      ]
    },
    {
      "cell_type": "markdown",
      "metadata": {
        "id": "j48stqBQFSs7"
      },
      "source": [
        "### Question 7: \"Which color grades should we focus on in our premium line? I need typical prices across our color spectrum.\"\n",
        "\n",
        "The CEO wants to understand pricing patterns."
      ]
    },
    {
      "cell_type": "code",
      "execution_count": 23,
      "metadata": {
        "colab": {
          "base_uri": "https://localhost:8080/",
          "height": 286
        },
        "id": "10zOXQXmFSs7",
        "outputId": "e201df77-90f9-43a2-b5b7-4c737aaee962"
      },
      "outputs": [
        {
          "output_type": "execute_result",
          "data": {
            "text/plain": [
              "shape: (6, 2)\n",
              "┌───────┬──────────────┐\n",
              "│ Color ┆ median_price │\n",
              "│ ---   ┆ ---          │\n",
              "│ str   ┆ f64          │\n",
              "╞═══════╪══════════════╡\n",
              "│ F     ┆ 8860.0       │\n",
              "│ G     ┆ 8800.0       │\n",
              "│ D     ┆ 7567.0       │\n",
              "│ H     ┆ 7169.0       │\n",
              "│ E     ┆ 7059.5       │\n",
              "│ I     ┆ 6655.0       │\n",
              "└───────┴──────────────┘"
            ],
            "text/html": [
              "<div><style>\n",
              ".dataframe > thead > tr,\n",
              ".dataframe > tbody > tr {\n",
              "  text-align: right;\n",
              "  white-space: pre-wrap;\n",
              "}\n",
              "</style>\n",
              "<small>shape: (6, 2)</small><table border=\"1\" class=\"dataframe\"><thead><tr><th>Color</th><th>median_price</th></tr><tr><td>str</td><td>f64</td></tr></thead><tbody><tr><td>&quot;F&quot;</td><td>8860.0</td></tr><tr><td>&quot;G&quot;</td><td>8800.0</td></tr><tr><td>&quot;D&quot;</td><td>7567.0</td></tr><tr><td>&quot;H&quot;</td><td>7169.0</td></tr><tr><td>&quot;E&quot;</td><td>7059.5</td></tr><tr><td>&quot;I&quot;</td><td>6655.0</td></tr></tbody></table></div>"
            ]
          },
          "metadata": {},
          "execution_count": 23
        }
      ],
      "source": [
        "# Your code here:\n",
        "\n",
        "\n",
        "\n",
        "import polars as pl\n",
        "\n",
        "color_col = \"Color\" if \"Color\" in df.columns else \"color\"\n",
        "price_col = \"Price\" if \"Price\" in df.columns else \"price\"\n",
        "\n",
        "result = (\n",
        "    df.group_by(color_col)\n",
        "      .agg(pl.col(price_col).median().alias(\"median_price\"))\n",
        "      .sort(\"median_price\", descending=True)\n",
        ")\n",
        "result\n",
        "\n"
      ]
    },
    {
      "cell_type": "markdown",
      "metadata": {
        "id": "OOiBmUKNFSs7"
      },
      "source": [
        "**Reflection:** After analyzing by color, how has your view of the data changed? What does each row in your result represent now?"
      ]
    },
    {
      "cell_type": "markdown",
      "metadata": {
        "id": "9mVsziYGFSs7"
      },
      "source": [
        "[link text](https://)**Your answer:** New grain ="
      ]
    },
    {
      "cell_type": "markdown",
      "metadata": {
        "id": "nk9VdXJmFSs7"
      },
      "source": [
        "## Section 3: Advanced Strategic Analysis (10 minutes)\n",
        "\n",
        "The CEO leans forward: \"These next questions will shape our strategy for next year.\""
      ]
    },
    {
      "cell_type": "markdown",
      "metadata": {
        "id": "6bX9IOveFSs7"
      },
      "source": [
        "### Question 8: \"We're thinking of specializing in certain clarity grades. For our investor deck, I need a complete breakdown showing: how many diamonds we have in each clarity grade, their typical price, and the total carats we're holding for each grade.\""
      ]
    },
    {
      "cell_type": "code",
      "execution_count": 25,
      "metadata": {
        "colab": {
          "base_uri": "https://localhost:8080/",
          "height": 317
        },
        "id": "lkWPIeWNFSs7",
        "outputId": "3f6382e4-1941-49eb-8805-e1aed3a68039"
      },
      "outputs": [
        {
          "output_type": "execute_result",
          "data": {
            "text/plain": [
              "shape: (7, 4)\n",
              "┌─────────┬───────────────┬──────────────┬──────────────┐\n",
              "│ Clarity ┆ diamond_count ┆ median_price ┆ total_carats │\n",
              "│ ---     ┆ ---           ┆ ---          ┆ ---          │\n",
              "│ str     ┆ u32           ┆ f64          ┆ f64          │\n",
              "╞═════════╪═══════════════╪══════════════╪══════════════╡\n",
              "│ FL      ┆ 4             ┆ 62371.5      ┆ 7.87         │\n",
              "│ IF      ┆ 219           ┆ 12647.0      ┆ 316.0        │\n",
              "│ SI1     ┆ 2059          ┆ 5417.0       ┆ 2563.69      │\n",
              "│ VS1     ┆ 1192          ┆ 9245.0       ┆ 1682.74      │\n",
              "│ VS2     ┆ 1575          ┆ 7568.0       ┆ 2170.81      │\n",
              "│ VVS1    ┆ 285           ┆ 11142.0      ┆ 389.43       │\n",
              "│ VVS2    ┆ 666           ┆ 10266.0      ┆ 876.58       │\n",
              "└─────────┴───────────────┴──────────────┴──────────────┘"
            ],
            "text/html": [
              "<div><style>\n",
              ".dataframe > thead > tr,\n",
              ".dataframe > tbody > tr {\n",
              "  text-align: right;\n",
              "  white-space: pre-wrap;\n",
              "}\n",
              "</style>\n",
              "<small>shape: (7, 4)</small><table border=\"1\" class=\"dataframe\"><thead><tr><th>Clarity</th><th>diamond_count</th><th>median_price</th><th>total_carats</th></tr><tr><td>str</td><td>u32</td><td>f64</td><td>f64</td></tr></thead><tbody><tr><td>&quot;FL&quot;</td><td>4</td><td>62371.5</td><td>7.87</td></tr><tr><td>&quot;IF&quot;</td><td>219</td><td>12647.0</td><td>316.0</td></tr><tr><td>&quot;SI1&quot;</td><td>2059</td><td>5417.0</td><td>2563.69</td></tr><tr><td>&quot;VS1&quot;</td><td>1192</td><td>9245.0</td><td>1682.74</td></tr><tr><td>&quot;VS2&quot;</td><td>1575</td><td>7568.0</td><td>2170.81</td></tr><tr><td>&quot;VVS1&quot;</td><td>285</td><td>11142.0</td><td>389.43</td></tr><tr><td>&quot;VVS2&quot;</td><td>666</td><td>10266.0</td><td>876.58</td></tr></tbody></table></div>"
            ]
          },
          "metadata": {},
          "execution_count": 25
        }
      ],
      "source": [
        "# Your code here:\n",
        "\n",
        "import polars as pl\n",
        "\n",
        "clarity_col = \"Clarity\" if \"Clarity\" in df.columns else \"clarity\"\n",
        "price_col   = \"Price\"   if \"Price\"   in df.columns else \"price\"\n",
        "carat_col   = \"Carat Weight\" if \"Carat Weight\" in df.columns else \"carat\"\n",
        "\n",
        "result = (\n",
        "    df.group_by(clarity_col)\n",
        "      .agg([\n",
        "          pl.len().alias(\"diamond_count\"),\n",
        "          pl.col(price_col).median().alias(\"median_price\"),\n",
        "          pl.col(carat_col).sum().alias(\"total_carats\"),\n",
        "      ])\n",
        "      .sort(clarity_col)\n",
        ")\n",
        "result\n",
        "\n",
        "\n",
        "\n"
      ]
    },
    {
      "cell_type": "markdown",
      "metadata": {
        "id": "9Q7i26FxFSs7"
      },
      "source": [
        "### Question 9: \"My luxury competitor claims they have the best prices for every cut-color combination. Show me our pricing structure across these combinations - I want to see where we're competitive.\""
      ]
    },
    {
      "cell_type": "code",
      "execution_count": 27,
      "metadata": {
        "colab": {
          "base_uri": "https://localhost:8080/",
          "height": 443
        },
        "id": "RzTHIZH9FSs7",
        "outputId": "ef8857f0-fac2-40a7-bd9d-f5a6bfa4a993"
      },
      "outputs": [
        {
          "output_type": "execute_result",
          "data": {
            "text/plain": [
              "shape: (30, 4)\n",
              "┌───────────┬───────┬───────┬──────────────┐\n",
              "│ Cut       ┆ Color ┆ count ┆ median_price │\n",
              "│ ---       ┆ ---   ┆ ---   ┆ ---          │\n",
              "│ str       ┆ str   ┆ u32   ┆ f64          │\n",
              "╞═══════════╪═══════╪═══════╪══════════════╡\n",
              "│ Fair      ┆ D     ┆ 12    ┆ 5040.0       │\n",
              "│ Fair      ┆ E     ┆ 32    ┆ 4908.5       │\n",
              "│ Fair      ┆ F     ┆ 24    ┆ 4628.0       │\n",
              "│ Fair      ┆ G     ┆ 21    ┆ 4646.0       │\n",
              "│ Fair      ┆ H     ┆ 24    ┆ 4358.0       │\n",
              "│ …         ┆ …     ┆ …     ┆ …            │\n",
              "│ Very Good ┆ E     ┆ 323   ┆ 6703.0       │\n",
              "│ Very Good ┆ F     ┆ 455   ┆ 8330.0       │\n",
              "│ Very Good ┆ G     ┆ 578   ┆ 8249.0       │\n",
              "│ Very Good ┆ H     ┆ 424   ┆ 6564.0       │\n",
              "│ Very Good ┆ I     ┆ 383   ┆ 6684.0       │\n",
              "└───────────┴───────┴───────┴──────────────┘"
            ],
            "text/html": [
              "<div><style>\n",
              ".dataframe > thead > tr,\n",
              ".dataframe > tbody > tr {\n",
              "  text-align: right;\n",
              "  white-space: pre-wrap;\n",
              "}\n",
              "</style>\n",
              "<small>shape: (30, 4)</small><table border=\"1\" class=\"dataframe\"><thead><tr><th>Cut</th><th>Color</th><th>count</th><th>median_price</th></tr><tr><td>str</td><td>str</td><td>u32</td><td>f64</td></tr></thead><tbody><tr><td>&quot;Fair&quot;</td><td>&quot;D&quot;</td><td>12</td><td>5040.0</td></tr><tr><td>&quot;Fair&quot;</td><td>&quot;E&quot;</td><td>32</td><td>4908.5</td></tr><tr><td>&quot;Fair&quot;</td><td>&quot;F&quot;</td><td>24</td><td>4628.0</td></tr><tr><td>&quot;Fair&quot;</td><td>&quot;G&quot;</td><td>21</td><td>4646.0</td></tr><tr><td>&quot;Fair&quot;</td><td>&quot;H&quot;</td><td>24</td><td>4358.0</td></tr><tr><td>&hellip;</td><td>&hellip;</td><td>&hellip;</td><td>&hellip;</td></tr><tr><td>&quot;Very Good&quot;</td><td>&quot;E&quot;</td><td>323</td><td>6703.0</td></tr><tr><td>&quot;Very Good&quot;</td><td>&quot;F&quot;</td><td>455</td><td>8330.0</td></tr><tr><td>&quot;Very Good&quot;</td><td>&quot;G&quot;</td><td>578</td><td>8249.0</td></tr><tr><td>&quot;Very Good&quot;</td><td>&quot;H&quot;</td><td>424</td><td>6564.0</td></tr><tr><td>&quot;Very Good&quot;</td><td>&quot;I&quot;</td><td>383</td><td>6684.0</td></tr></tbody></table></div>"
            ]
          },
          "metadata": {},
          "execution_count": 27
        }
      ],
      "source": [
        "# Your code here:\n",
        "\n",
        "import polars as pl\n",
        "\n",
        "cut_col   = \"Cut\"   if \"Cut\"   in df.columns else \"cut\"\n",
        "color_col = \"Color\" if \"Color\" in df.columns else \"color\"\n",
        "price_col = \"Price\" if \"Price\" in df.columns else \"price\"\n",
        "\n",
        "\n",
        "pricing = (\n",
        "    df.group_by([cut_col, color_col])\n",
        "      .agg([\n",
        "          pl.len().alias(\"count\"),\n",
        "          pl.col(price_col).median().alias(\"median_price\")\n",
        "      ])\n",
        "      .sort([cut_col, color_col])\n",
        ")\n",
        "pricing\n",
        "\n",
        "\n",
        "\n",
        "\n",
        "\n",
        "\n",
        "\n",
        "\n"
      ]
    },
    {
      "cell_type": "markdown",
      "metadata": {
        "id": "y37VhP-DFSs7"
      },
      "source": [
        "**Reflection:** How specific is your analysis now? What level of detail does each row represent?"
      ]
    },
    {
      "cell_type": "markdown",
      "metadata": {
        "id": "rwNsKR-cFSs7"
      },
      "source": [
        "**Your answer:** New grain ="
      ]
    },
    {
      "cell_type": "markdown",
      "metadata": {
        "id": "nz60rnL_FSs8"
      },
      "source": [
        "### Question 10: URGENT - \"Our biggest client is interested in purchasing entire inventory segments. They asked: 'Which color-cut combinations represent your highest total inventory value?' Show me the top 5 most valuable inventory segments by total worth, and include how many diamonds are in each segment.\"\n",
        "\n",
        "This is critical for tomorrow's negotiation."
      ]
    },
    {
      "cell_type": "code",
      "execution_count": 35,
      "metadata": {
        "colab": {
          "base_uri": "https://localhost:8080/",
          "height": 255
        },
        "id": "MEYG6E1KFSs8",
        "outputId": "571115b4-70b9-40ca-8154-00274f6a2711"
      },
      "outputs": [
        {
          "output_type": "execute_result",
          "data": {
            "text/plain": [
              "shape: (5, 4)\n",
              "┌───────┬───────────┬───────────────┬─────────────┐\n",
              "│ Color ┆ Cut       ┆ diamond_count ┆ total_value │\n",
              "│ ---   ┆ ---       ┆ ---           ┆ ---         │\n",
              "│ str   ┆ str       ┆ u32           ┆ i64         │\n",
              "╞═══════╪═══════════╪═══════════════╪═════════════╡\n",
              "│ G     ┆ Ideal     ┆ 690           ┆ 9363514     │\n",
              "│ G     ┆ Very Good ┆ 578           ┆ 7140620     │\n",
              "│ F     ┆ Very Good ┆ 455           ┆ 5648327     │\n",
              "│ F     ┆ Ideal     ┆ 363           ┆ 5346782     │\n",
              "│ H     ┆ Ideal     ┆ 458           ┆ 5279687     │\n",
              "└───────┴───────────┴───────────────┴─────────────┘"
            ],
            "text/html": [
              "<div><style>\n",
              ".dataframe > thead > tr,\n",
              ".dataframe > tbody > tr {\n",
              "  text-align: right;\n",
              "  white-space: pre-wrap;\n",
              "}\n",
              "</style>\n",
              "<small>shape: (5, 4)</small><table border=\"1\" class=\"dataframe\"><thead><tr><th>Color</th><th>Cut</th><th>diamond_count</th><th>total_value</th></tr><tr><td>str</td><td>str</td><td>u32</td><td>i64</td></tr></thead><tbody><tr><td>&quot;G&quot;</td><td>&quot;Ideal&quot;</td><td>690</td><td>9363514</td></tr><tr><td>&quot;G&quot;</td><td>&quot;Very Good&quot;</td><td>578</td><td>7140620</td></tr><tr><td>&quot;F&quot;</td><td>&quot;Very Good&quot;</td><td>455</td><td>5648327</td></tr><tr><td>&quot;F&quot;</td><td>&quot;Ideal&quot;</td><td>363</td><td>5346782</td></tr><tr><td>&quot;H&quot;</td><td>&quot;Ideal&quot;</td><td>458</td><td>5279687</td></tr></tbody></table></div>"
            ]
          },
          "metadata": {},
          "execution_count": 35
        }
      ],
      "source": [
        "# Your code here:\n",
        "\n",
        "color_col = \"Color\" if \"Color\" in df.columns else \"color\"\n",
        "cut_col   = \"Cut\"   if \"Cut\"   in df.columns else \"cut\"\n",
        "price_col = \"Price\" if \"Price\" in df.columns else \"price\"\n",
        "\n",
        "top5 = (\n",
        "    df.group_by([color_col, cut_col])\n",
        "      .agg([\n",
        "          pl.len().alias(\"diamond_count\"),\n",
        "          pl.col(price_col).sum().alias(\"total_value\"),\n",
        "      ])\n",
        "      .sort(\"total_value\", descending=True)\n",
        "      .head(5)\n",
        ")\n",
        "top5\n",
        "\n",
        "\n",
        "\n",
        "\n",
        "\n"
      ]
    },
    {
      "cell_type": "markdown",
      "metadata": {
        "id": "IfO9jLMaFSs8"
      },
      "source": [
        "## Debrief\n",
        "\n",
        "Congratulations! You've just completed your first day as the diamond company's data analyst.\n",
        "\n",
        "Remember:\n",
        "- CEOs speak in business language, not technical terms\n",
        "- Always understand what each row represents before analyzing\n",
        "- Business questions contain clues about which operations to use"
      ]
    }
  ],
  "metadata": {
    "kernelspec": {
      "display_name": "Python 3",
      "language": "python",
      "name": "python3"
    },
    "language_info": {
      "codemirror_mode": {
        "name": "ipython",
        "version": 3
      },
      "file_extension": ".py",
      "mimetype": "text/x-python",
      "name": "python",
      "nbconvert_exporter": "python",
      "pygments_lexer": "ipython3",
      "version": "3.12.0"
    },
    "colab": {
      "provenance": []
    }
  },
  "nbformat": 4,
  "nbformat_minor": 0
}